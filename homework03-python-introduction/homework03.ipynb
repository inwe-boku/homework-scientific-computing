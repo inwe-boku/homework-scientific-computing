{
 "cells": [
  {
   "cell_type": "markdown",
   "metadata": {},
   "source": [
    "# Homework 03 - Python introduction"
   ]
  },
  {
   "cell_type": "markdown",
   "metadata": {},
   "source": [
    "### Exercise 1 - Terminology\n",
    "\n",
    "Describe the following terms with your own words:\n",
    "\n",
    "***Function:*** \n",
    "\n",
    "***Variable:***\n",
    "\n",
    "***Calling a function:***\n",
    "\n",
    "***String:***"
   ]
  },
  {
   "cell_type": "markdown",
   "metadata": {},
   "source": [
    "### Exercise 2 - spurious correlations\n",
    "\n",
    "Reproduce a *spurious correlations* plot using `plt.plot()`.\n",
    "\n",
    "Plot the time series `sociology_doctorates` and `space_launches` on a relative scale, i.e. as percentage of the last data point (i.e. years on the x-axis, relative data on the y-axis, the last data point in both time series should be 100%). Add a second plot which displays the relation between both data sets as scatter plot by using `plt.plot(dataset1, dataset2, 'o')` (data set 1 on x-axis, data set 2 on y-axis absolute units, not percentage).\n",
    "\n",
    "Instead using the given time series, you can also use any other spurious correlation, if you want to search a different dataset.\n",
    "\n",
    "Analyze both plots, come up with a wrong conclusion and explain why it is wrong.\n",
    "\n",
    "Don't forget to label the axis!\n",
    "\n",
    "![Spurious correlations](spurious-correlations.svg)\n",
    "\n",
    "Source: https://www.tylervigen.com/spurious-correlations"
   ]
  },
  {
   "cell_type": "code",
   "execution_count": 1,
   "metadata": {},
   "outputs": [],
   "source": [
    "sociology_doctorates = [601, 579, 572, 617, 566, 547, 597, 580, 536, 579, 576, 601, 664]\n",
    "space_launches = [54, 46, 42, 50, 43, 41, 46, 39, 37, 45, 45, 41, 54]\n",
    "years = list(range(1997, 2009 + 1))"
   ]
  },
  {
   "cell_type": "markdown",
   "metadata": {},
   "source": [
    "### Exercise 3 - Flatten the curve\n",
    "\n",
    "Use the logistic growth model to plot an oversimplified version of the [#flattenthecurve](https://www.biospace.com/getasset/fc2b8ad6-697f-49d5-827e-50f4901baf53/) [graphs](https://evilspeculator.com/wp-content/uploads/2020/03/flattenthecurve.jpg).\n",
    "\n",
    "Write a function `new_infections(t, c)` which returns the number of new infections given by the following formula:\n",
    "\n",
    "$i_{\\textrm{new}}(t):=\\frac{e^\\left(-k \\cdot P \\cdot t\\right) \\cdot k \\cdot P^2 \\cdot \\left(-1 + \\frac{P}{i_0}\\right)}{\\left(1 + e^\\left(-k \\cdot P \\cdot t \\right) \\cdot \\left(-1 + \\frac{P}{i_0}\\right) \\right)^2}$\n",
    "\n",
    "Plot the number of infections for $t=0,\\ldots,250$, $P=1\\,000\\,000$, $i_0=1$ and different values of $k= \\frac{c}{P}$.\\\n",
    "Where $c$ defines the number of the number of met individuals per infected persons, and $k$ defines the share of the total population $P$ an infected individual meets and infects per time step. \n",
    "\n",
    "Also add a horizontal line and label it with \"healthcare system capacity\".\n",
    "\n",
    "Then analyze the plot for different values of $c$ and explain in detail why one should not use this model/plot to predict the outcome of an epidemic.\n",
    "\n",
    "Bonus question: Is there something one can still learn from it?"
   ]
  },
  {
   "cell_type": "markdown",
   "metadata": {},
   "source": [
    "##### Motivation\n",
    "\n",
    "The motivation is not important for the programming task. There is no need to understand all details in order to do the exercise.\n",
    "\n",
    "For a fixed population with $P$ individuals, $i(t)$ is the number of infections at time $t$. We assume that every individual stays infectious once infected. \n",
    "\n",
    "Choosing a random pair of individuals from the population, a new infection will take place with probability $2 \\cdot \\frac{i(t)}{P} \\cdot \\frac{P - i(t)}{P}$. If we assume that every infected individual will meet approximately $c$ others in every time step (and infect them if they are not yet infected), there is a total number of contacts $\\frac{c \\cdot P}{2}$ in every time step. That means we expect a total number of new infections:\n",
    "\n",
    "$i_{\\textrm{new}}(t) = \\frac{c \\cdot P}{2} \\cdot 2 \\cdot \\frac{i(t)}{P} \\cdot \\frac{P - i(t)}{P} = \\underbrace{\\frac{c}{P}}_{=:k} \\cdot \\left(i(t) \\cdot \\left(P - i(t)\\right) \\right)$\n",
    "\n",
    "This leads to the differential equation:\n",
    "\n",
    "$i'(t) = i_{\\textrm{new}}(t) = k \\cdot \\left(i(t) \\cdot \\left(P - i(t)\\right) \\right)$\n",
    "\n",
    "A solution is given by:\n",
    "\n",
    "$i(t) = \\frac{P}{\\left(1 + e^\\left(-k \\cdot P \\cdot t \\right) \\cdot \\left(\\frac{P}{i_0} - 1\\right)\\right)}$\n",
    "\n",
    "Differentiating $i(t)$ gives the number of new infections:\n",
    "\n",
    "$i_{\\textrm{new}}(t):=i'(t) = \\frac{e^\\left(-k \\cdot P \\cdot t\\right) \\cdot k \\cdot P^2 \\cdot \\left(-1 + \\frac{P}{i_0}\\right)}{\\left(1 + e^\\left(-k \\cdot P \\cdot t \\right) \\cdot \\left(-1 + \\frac{P}{i_0}\\right) \\right)^2}$\n",
    "\n",
    "\n",
    "[3blue1brown](https://www.youtube.com/watch?v=gxAaO2rsdIs) has a great video on the topic. If you are interested in a model which is a bit closer to the real world, but still quite simple, have a look at the [SIR model](https://www.youtube.com/watch?v=Qrp40ck3WpI). A large part of this is inspired by the [German Wikipiedia page](https://de.wikipedia.org/wiki/Logistische_Funktion)."
   ]
  },
  {
   "cell_type": "markdown",
   "metadata": {},
   "source": [
    "##### Solution\n",
    "\n",
    "Write your code here:"
   ]
  },
  {
   "cell_type": "markdown",
   "metadata": {},
   "source": [
    "##### Bonus: Interactive plot\n",
    "\n",
    "If you want an interactive widget to control the parameter c, you can use the following code.\n",
    "\n",
    "**Warning:** After running `%matplotlib notebook` you cannot plot in other cells any longer. Restart the Jupyter kernel and refresh the browser window to disable again.\n",
    "\n",
    "```Python\n",
    "%matplotlib notebook\n",
    "from ipywidgets import interact\n",
    "\n",
    "line, = plt.plot(x, y)\n",
    "\n",
    "# write here more plotting code (axis label etc)\n",
    "\n",
    "def update(c=3.0/10.):\n",
    "    line.set_ydata([new_infections(t, c  / P) for t in time_range])\n",
    "\n",
    "interact(update);\n",
    "```"
   ]
  },
  {
   "cell_type": "markdown",
   "metadata": {},
   "source": [
    "### Exercise 4 - Fibonacci \n",
    "\n",
    "Write a function `fibonacci(n)` which calculates the n-th [Fibonacci number](https://en.wikipedia.org/wiki/Fibonacci_number), defined by $f(0)=0$, $f(1)=1$ and $f(n) = f(n-1)+f(n-2)$.\n",
    "\n",
    "Use the function to calculate $f(100)$."
   ]
  }
 ],
 "metadata": {
  "kernelspec": {
   "display_name": "Python 3",
   "language": "python",
   "name": "python3"
  },
  "language_info": {
   "codemirror_mode": {
    "name": "ipython",
    "version": 3
   },
   "file_extension": ".py",
   "mimetype": "text/x-python",
   "name": "python",
   "nbconvert_exporter": "python",
   "pygments_lexer": "ipython3",
   "version": "3.7.7"
  }
 },
 "nbformat": 4,
 "nbformat_minor": 4
}
